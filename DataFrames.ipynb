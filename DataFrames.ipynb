{
 "cells": [
  {
   "cell_type": "code",
   "execution_count": 3,
   "id": "ab6b5120-0f05-4f9a-a2af-ad16db66045c",
   "metadata": {},
   "outputs": [
    {
     "name": "stdout",
     "output_type": "stream",
     "text": [
      "      Name  Age  Salary\n",
      "0     Aman   24   20000\n",
      "1  Aadarsh   25   25000\n",
      "2    Ankit   28   15000\n",
      "3    Akhil   31   30000\n"
     ]
    }
   ],
   "source": [
    "import pandas as pd # type: ignore\n",
    "\n",
    "data = { \"Name\":[\"Aman\",\"Aadarsh\",\"Ankit\",\"Akhil\"],\n",
    "         \"Age\": [24,25,28,31],\n",
    "         \"Salary\": [20000,25000,15000,30000]}\n",
    "\n",
    "df = pd.DataFrame(data)\n",
    "print(df)\n"
   ]
  },
  {
   "cell_type": "code",
   "execution_count": 4,
   "id": "f114e4ef-db26-465f-8996-f6dbc1bd76b5",
   "metadata": {},
   "outputs": [
    {
     "name": "stdout",
     "output_type": "stream",
     "text": [
      "         pizza_id pizza_type_id size  price\n",
      "0       bbq_ckn_s       bbq_ckn    S  12.75\n",
      "1       bbq_ckn_m       bbq_ckn    M  16.75\n",
      "2       bbq_ckn_l       bbq_ckn    L  20.75\n",
      "3      cali_ckn_s      cali_ckn    S  12.75\n",
      "4      cali_ckn_m      cali_ckn    M  16.75\n",
      "5      cali_ckn_l      cali_ckn    L  20.75\n",
      "6   ckn_alfredo_s   ckn_alfredo    S  12.75\n",
      "7   ckn_alfredo_m   ckn_alfredo    M  16.75\n",
      "8   ckn_alfredo_l   ckn_alfredo    L  20.75\n",
      "9     ckn_pesto_s     ckn_pesto    S  12.75\n",
      "10    ckn_pesto_m     ckn_pesto    M  16.75\n",
      "11    ckn_pesto_l     ckn_pesto    L  20.75\n",
      "12   southw_ckn_s    southw_ckn    S  12.75\n",
      "13   southw_ckn_m    southw_ckn    M  16.75\n",
      "14   southw_ckn_l    southw_ckn    L  20.75\n",
      "          pizza_id pizza_type_id size  price\n",
      "81  mediterraneo_s  mediterraneo    S  12.00\n",
      "82  mediterraneo_m  mediterraneo    M  16.00\n",
      "83  mediterraneo_l  mediterraneo    L  20.25\n",
      "84      mexicana_s      mexicana    S  12.00\n",
      "85      mexicana_m      mexicana    M  16.00\n",
      "86      mexicana_l      mexicana    L  20.25\n",
      "87    spin_pesto_s    spin_pesto    S  12.50\n",
      "88    spin_pesto_m    spin_pesto    M  16.50\n",
      "89    spin_pesto_l    spin_pesto    L  20.75\n",
      "90   spinach_fet_s   spinach_fet    S  12.00\n",
      "91   spinach_fet_m   spinach_fet    M  16.00\n",
      "92   spinach_fet_l   spinach_fet    L  20.25\n",
      "93    veggie_veg_s    veggie_veg    S  12.00\n",
      "94    veggie_veg_m    veggie_veg    M  16.00\n",
      "95    veggie_veg_l    veggie_veg    L  20.25\n"
     ]
    }
   ],
   "source": [
    "data = pd.read_csv(\"C:/Users/varsh/OneDrive/Documents/pizza_sales/pizza_sales/pizzas.csv\")      \n",
    "# print(data)\n",
    "print(data.head(15))\n",
    "print(data.tail(15))"
   ]
  },
  {
   "cell_type": "code",
   "execution_count": 7,
   "id": "5d3ded67-933e-45ee-afc3-0f6a0a7bee79",
   "metadata": {},
   "outputs": [
    {
     "name": "stdout",
     "output_type": "stream",
     "text": [
      "<class 'pandas.core.frame.DataFrame'>\n",
      "RangeIndex: 96 entries, 0 to 95\n",
      "Data columns (total 4 columns):\n",
      " #   Column         Non-Null Count  Dtype  \n",
      "---  ------         --------------  -----  \n",
      " 0   pizza_id       96 non-null     object \n",
      " 1   pizza_type_id  96 non-null     object \n",
      " 2   size           96 non-null     object \n",
      " 3   price          96 non-null     float64\n",
      "dtypes: float64(1), object(3)\n",
      "memory usage: 3.1+ KB\n",
      "None\n"
     ]
    }
   ],
   "source": [
    "print(data.info())"
   ]
  },
  {
   "cell_type": "code",
   "execution_count": 9,
   "id": "e3dad799-5e0a-423c-83dd-412fa159d6b6",
   "metadata": {},
   "outputs": [
    {
     "data": {
      "text/html": [
       "<div>\n",
       "<style scoped>\n",
       "    .dataframe tbody tr th:only-of-type {\n",
       "        vertical-align: middle;\n",
       "    }\n",
       "\n",
       "    .dataframe tbody tr th {\n",
       "        vertical-align: top;\n",
       "    }\n",
       "\n",
       "    .dataframe thead th {\n",
       "        text-align: right;\n",
       "    }\n",
       "</style>\n",
       "<table border=\"1\" class=\"dataframe\">\n",
       "  <thead>\n",
       "    <tr style=\"text-align: right;\">\n",
       "      <th></th>\n",
       "      <th>price</th>\n",
       "    </tr>\n",
       "  </thead>\n",
       "  <tbody>\n",
       "    <tr>\n",
       "      <th>count</th>\n",
       "      <td>96.000000</td>\n",
       "    </tr>\n",
       "    <tr>\n",
       "      <th>mean</th>\n",
       "      <td>16.440625</td>\n",
       "    </tr>\n",
       "    <tr>\n",
       "      <th>std</th>\n",
       "      <td>4.090266</td>\n",
       "    </tr>\n",
       "    <tr>\n",
       "      <th>min</th>\n",
       "      <td>9.750000</td>\n",
       "    </tr>\n",
       "    <tr>\n",
       "      <th>25%</th>\n",
       "      <td>12.500000</td>\n",
       "    </tr>\n",
       "    <tr>\n",
       "      <th>50%</th>\n",
       "      <td>16.250000</td>\n",
       "    </tr>\n",
       "    <tr>\n",
       "      <th>75%</th>\n",
       "      <td>20.250000</td>\n",
       "    </tr>\n",
       "    <tr>\n",
       "      <th>max</th>\n",
       "      <td>35.950000</td>\n",
       "    </tr>\n",
       "  </tbody>\n",
       "</table>\n",
       "</div>"
      ],
      "text/plain": [
       "           price\n",
       "count  96.000000\n",
       "mean   16.440625\n",
       "std     4.090266\n",
       "min     9.750000\n",
       "25%    12.500000\n",
       "50%    16.250000\n",
       "75%    20.250000\n",
       "max    35.950000"
      ]
     },
     "execution_count": 9,
     "metadata": {},
     "output_type": "execute_result"
    }
   ],
   "source": [
    "data.describe()"
   ]
  },
  {
   "cell_type": "code",
   "execution_count": 10,
   "id": "784868c4-a6e9-4d7a-9042-3ef4664ffecb",
   "metadata": {},
   "outputs": [
    {
     "name": "stdout",
     "output_type": "stream",
     "text": [
      "pizza_id         0\n",
      "pizza_type_id    0\n",
      "size             0\n",
      "price            0\n",
      "dtype: int64\n"
     ]
    }
   ],
   "source": [
    "print(data.isnull().sum())"
   ]
  },
  {
   "cell_type": "code",
   "execution_count": 15,
   "id": "89b7be4c-a900-496b-9941-39262d3888f4",
   "metadata": {},
   "outputs": [
    {
     "name": "stdout",
     "output_type": "stream",
     "text": [
      "         pizza_id pizza_type_id size  price\n",
      "0       bbq_ckn_s       bbq_ckn    S  12.75\n",
      "1       bbq_ckn_m       bbq_ckn    M  16.75\n",
      "2       bbq_ckn_l       bbq_ckn    L  20.75\n",
      "3      cali_ckn_s      cali_ckn    S  12.75\n",
      "4      cali_ckn_m      cali_ckn    M  16.75\n",
      "..            ...           ...  ...    ...\n",
      "91  spinach_fet_m   spinach_fet    M  16.00\n",
      "92  spinach_fet_l   spinach_fet    L  20.25\n",
      "93   veggie_veg_s    veggie_veg    S  12.00\n",
      "94   veggie_veg_m    veggie_veg    M  16.00\n",
      "95   veggie_veg_l    veggie_veg    L  20.25\n",
      "\n",
      "[96 rows x 4 columns]\n"
     ]
    }
   ],
   "source": [
    "print(data.dropna())"
   ]
  },
  {
   "cell_type": "code",
   "execution_count": 13,
   "id": "5b981430-df59-4f7a-aed1-81a5e3949701",
   "metadata": {},
   "outputs": [
    {
     "name": "stdout",
     "output_type": "stream",
     "text": [
      "64\n"
     ]
    }
   ],
   "source": [
    "print(data[\"pizza_type_id\"].duplicated().sum())"
   ]
  },
  {
   "cell_type": "code",
   "execution_count": 14,
   "id": "cebb6dde-fde8-4757-a7ed-8622c3ae9b56",
   "metadata": {},
   "outputs": [
    {
     "name": "stdout",
     "output_type": "stream",
     "text": [
      "          pizza_id pizza_type_id size  price\n",
      "0        bbq_ckn_s       bbq_ckn    S  12.75\n",
      "3       cali_ckn_s      cali_ckn    S  12.75\n",
      "6    ckn_alfredo_s   ckn_alfredo    S  12.75\n",
      "9      ckn_pesto_s     ckn_pesto    S  12.75\n",
      "12    southw_ckn_s    southw_ckn    S  12.75\n",
      "15      thai_ckn_s      thai_ckn    S  12.75\n",
      "18      big_meat_s      big_meat    S  12.00\n",
      "21   classic_dlx_s   classic_dlx    S  12.00\n",
      "24      hawaiian_s      hawaiian    S  10.50\n",
      "27   ital_cpcllo_s   ital_cpcllo    S  12.00\n",
      "30    napolitana_s    napolitana    S  12.00\n",
      "33   pep_msh_pep_s   pep_msh_pep    S  11.00\n",
      "36     pepperoni_s     pepperoni    S   9.75\n",
      "39     the_greek_s     the_greek    S  12.00\n",
      "44    brie_carre_s    brie_carre    S  23.65\n",
      "45     calabrese_s     calabrese    S  12.25\n",
      "48     ital_supr_s     ital_supr    S  12.50\n",
      "51  peppr_salami_s  peppr_salami    S  12.50\n",
      "54    prsc_argla_s    prsc_argla    S  12.50\n",
      "57      sicilian_s      sicilian    S  12.25\n",
      "60   soppressata_s   soppressata    S  12.50\n",
      "63    spicy_ital_s    spicy_ital    S  12.50\n",
      "66  spinach_supr_s  spinach_supr    S  12.50\n",
      "69   five_cheese_s   five_cheese    S  12.50\n",
      "72   four_cheese_s   four_cheese    S  11.75\n",
      "75  green_garden_s  green_garden    S  12.00\n",
      "78   ital_veggie_s   ital_veggie    S  12.75\n",
      "81  mediterraneo_s  mediterraneo    S  12.00\n",
      "84      mexicana_s      mexicana    S  12.00\n",
      "87    spin_pesto_s    spin_pesto    S  12.50\n",
      "90   spinach_fet_s   spinach_fet    S  12.00\n",
      "93    veggie_veg_s    veggie_veg    S  12.00\n"
     ]
    }
   ],
   "source": [
    "print(data.drop_duplicates(\"pizza_type_id\"))"
   ]
  },
  {
   "cell_type": "code",
   "execution_count": 10,
   "id": "97fbeb3f-580f-4f41-81a4-469bc492b717",
   "metadata": {},
   "outputs": [
    {
     "name": "stdout",
     "output_type": "stream",
     "text": [
      "         pizza_id pizza_type_id size  price    GetBonus\n",
      "0       bbq_ckn_s       bbq_ckn    S  12.75  high bonus\n",
      "1       bbq_ckn_m       bbq_ckn    M  16.75  high bonus\n",
      "2       bbq_ckn_l       bbq_ckn    L  20.75  high bonus\n",
      "3      cali_ckn_s      cali_ckn    S  12.75  high bonus\n",
      "4      cali_ckn_m      cali_ckn    M  16.75  high bonus\n",
      "5      cali_ckn_l      cali_ckn    L  20.75  high bonus\n",
      "6   ckn_alfredo_s   ckn_alfredo    S  12.75  high bonus\n",
      "7   ckn_alfredo_m   ckn_alfredo    M  16.75  high bonus\n",
      "8   ckn_alfredo_l   ckn_alfredo    L  20.75  high bonus\n",
      "9     ckn_pesto_s     ckn_pesto    S  12.75  high bonus\n",
      "10    ckn_pesto_m     ckn_pesto    M  16.75  high bonus\n",
      "11    ckn_pesto_l     ckn_pesto    L  20.75  high bonus\n",
      "12   southw_ckn_s    southw_ckn    S  12.75  high bonus\n",
      "13   southw_ckn_m    southw_ckn    M  16.75  high bonus\n",
      "14   southw_ckn_l    southw_ckn    L  20.75  high bonus\n",
      "15     thai_ckn_s      thai_ckn    S  12.75  high bonus\n",
      "16     thai_ckn_m      thai_ckn    M  16.75  high bonus\n",
      "17     thai_ckn_l      thai_ckn    L  20.75  high bonus\n",
      "18     big_meat_s      big_meat    S  12.00  less bonus\n",
      "19     big_meat_m      big_meat    M  16.00  high bonus\n",
      "20     big_meat_l      big_meat    L  20.50  high bonus\n",
      "21  classic_dlx_s   classic_dlx    S  12.00  less bonus\n",
      "22  classic_dlx_m   classic_dlx    M  16.00  high bonus\n",
      "23  classic_dlx_l   classic_dlx    L  20.50  high bonus\n",
      "24     hawaiian_s      hawaiian    S  10.50  less bonus\n",
      "25     hawaiian_m      hawaiian    M  13.25  high bonus\n",
      "26     hawaiian_l      hawaiian    L  16.50  high bonus\n",
      "27  ital_cpcllo_s   ital_cpcllo    S  12.00  less bonus\n",
      "28  ital_cpcllo_m   ital_cpcllo    M  16.00  high bonus\n",
      "29  ital_cpcllo_l   ital_cpcllo    L  20.50  high bonus\n",
      "30   napolitana_s    napolitana    S  12.00  less bonus\n",
      "31   napolitana_m    napolitana    M  16.00  high bonus\n",
      "32   napolitana_l    napolitana    L  20.50  high bonus\n",
      "33  pep_msh_pep_s   pep_msh_pep    S  11.00  less bonus\n",
      "34  pep_msh_pep_m   pep_msh_pep    M  14.50  high bonus\n",
      "35  pep_msh_pep_l   pep_msh_pep    L  17.50  high bonus\n",
      "36    pepperoni_s     pepperoni    S   9.75  less bonus\n",
      "37    pepperoni_m     pepperoni    M  12.50  high bonus\n",
      "38    pepperoni_l     pepperoni    L  15.25  high bonus\n",
      "39    the_greek_s     the_greek    S  12.00  less bonus\n",
      "40    the_greek_m     the_greek    M  16.00  high bonus\n",
      "41    the_greek_l     the_greek    L  20.50  high bonus\n",
      "42   the_greek_xl     the_greek   XL  25.50  high bonus\n",
      "43  the_greek_xxl     the_greek  XXL  35.95  high bonus\n",
      "44   brie_carre_s    brie_carre    S  23.65  high bonus\n",
      "45    calabrese_s     calabrese    S  12.25  high bonus\n",
      "46    calabrese_m     calabrese    M  16.25  high bonus\n",
      "47    calabrese_l     calabrese    L  20.25  high bonus\n",
      "48    ital_supr_s     ital_supr    S  12.50  high bonus\n",
      "49    ital_supr_m     ital_supr    M  16.50  high bonus\n"
     ]
    }
   ],
   "source": [
    "data.loc[(data[\"price\"] < 12.00), \"GetBonus\"] = \"less bonus\"\n",
    "data.loc[(data[\"price\"] > 12.00) , \"GetBonus\"] = \"high bonus\"\n",
    "print(data.head(50))"
   ]
  },
  {
   "cell_type": "code",
   "execution_count": null,
   "id": "ea31e1f3-c9f7-4e9c-8fd9-ff94c03fb16c",
   "metadata": {},
   "outputs": [],
   "source": []
  }
 ],
 "metadata": {
  "kernelspec": {
   "display_name": "Python 3 (ipykernel)",
   "language": "python",
   "name": "python3"
  },
  "language_info": {
   "codemirror_mode": {
    "name": "ipython",
    "version": 3
   },
   "file_extension": ".py",
   "mimetype": "text/x-python",
   "name": "python",
   "nbconvert_exporter": "python",
   "pygments_lexer": "ipython3",
   "version": "3.12.7"
  }
 },
 "nbformat": 4,
 "nbformat_minor": 5
}
