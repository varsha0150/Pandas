{
 "cells": [
  {
   "cell_type": "code",
   "execution_count": 49,
   "id": "202ad8a2-b032-4e48-8e70-c82c013eea9c",
   "metadata": {},
   "outputs": [
    {
     "name": "stdout",
     "output_type": "stream",
     "text": [
      "   Employee ID First Name Last Name        Department     Position  \\\n",
      "0      EMP0001       Emma  Anderson        Operations    Assistant   \n",
      "1      EMP0002     Olivia    Thomas        Operations      Manager   \n",
      "2      EMP0003       Noah     Brown             Sales  Coordinator   \n",
      "3      EMP0004      Ethan    Martin                IT  Coordinator   \n",
      "4      EMP0005       Liam     Brown  Customer Service  Coordinator   \n",
      "5      EMP0006       Emma  Anderson             Sales      Manager   \n",
      "6      EMP0007     Olivia     Brown             Sales   Specialist   \n",
      "7      EMP0008       John    Harris                HR      Analyst   \n",
      "8      EMP0009      Ethan     Brown        Operations    Assistant   \n",
      "9      EMP0010    Michael     Smith             Sales   Specialist   \n",
      "10     EMP0011        Ava   Jackson         Marketing      Analyst   \n",
      "11     EMP0012       Emma    Harris  Customer Service    Assistant   \n",
      "12     EMP0013       Liam    Taylor        Operations   Specialist   \n",
      "13     EMP0014       Noah  Anderson           Finance      Analyst   \n",
      "14     EMP0015    Michael     Smith             Sales      Manager   \n",
      "15     EMP0016       Emma     Smith             Sales      Analyst   \n",
      "16     EMP0017      Ethan   Johnson                HR    Executive   \n",
      "17     EMP0018   Isabella    Taylor           Finance      Analyst   \n",
      "18     EMP0019        Ava    Taylor             Sales    Executive   \n",
      "19     EMP0020   Isabella     Smith                HR      Manager   \n",
      "20     EMP0021        Ava    Thomas        Operations   Specialist   \n",
      "21     EMP0022   Isabella    Harris         Marketing      Manager   \n",
      "22     EMP0023       Emma     Brown                IT    Assistant   \n",
      "23     EMP0024       Liam     White  Customer Service      Analyst   \n",
      "24     EMP0025   Isabella    Taylor             Sales    Assistant   \n",
      "25     EMP0026       John    Thomas                IT   Specialist   \n",
      "26     EMP0027     Olivia  Anderson                IT   Specialist   \n",
      "27     EMP0028       Liam     Smith                IT  Coordinator   \n",
      "28     EMP0029       John    Harris         Marketing    Executive   \n",
      "29     EMP0030       John     Smith             Sales      Manager   \n",
      "30     EMP0031       Noah    Harris  Customer Service    Executive   \n",
      "31     EMP0032        Ava    Taylor  Customer Service      Manager   \n",
      "32     EMP0033       Liam     Smith                HR    Executive   \n",
      "33     EMP0034    Michael    Martin  Customer Service  Coordinator   \n",
      "34     EMP0035   Isabella  Anderson             Sales      Analyst   \n",
      "35     EMP0036    Michael     Brown        Operations  Coordinator   \n",
      "36     EMP0037    Michael    Martin                IT      Analyst   \n",
      "37     EMP0038    Michael    Taylor         Marketing  Coordinator   \n",
      "38     EMP0039       Emma     Brown             Sales    Executive   \n",
      "39     EMP0040     Olivia     Brown             Sales    Assistant   \n",
      "40     EMP0041       John  Anderson         Marketing    Assistant   \n",
      "41     EMP0042        Ava     White                IT   Specialist   \n",
      "42     EMP0043     Olivia     White                IT  Coordinator   \n",
      "43     EMP0044    Michael    Taylor                IT  Coordinator   \n",
      "44     EMP0045    Michael    Taylor                HR      Analyst   \n",
      "45     EMP0046       John  Anderson  Customer Service    Assistant   \n",
      "46     EMP0047     Olivia    Harris         Marketing    Assistant   \n",
      "47     EMP0048       Liam    Martin           Finance    Executive   \n",
      "48     EMP0049      Ethan   Johnson                IT      Manager   \n",
      "49     EMP0050       Emma     Brown  Customer Service      Analyst   \n",
      "\n",
      "            City  Salary (USD)  \n",
      "0       New York         91974  \n",
      "1      San Diego         64931  \n",
      "2    San Antonio         85945  \n",
      "3    Los Angeles         65273  \n",
      "4   Philadelphia         87009  \n",
      "5    Los Angeles         47057  \n",
      "6    Los Angeles        100193  \n",
      "7       New York         45613  \n",
      "8    Los Angeles         93016  \n",
      "9       New York         68990  \n",
      "10     San Diego        105629  \n",
      "11     San Diego        102214  \n",
      "12   Los Angeles         77615  \n",
      "13       Houston         67584  \n",
      "14       Phoenix        100459  \n",
      "15   Los Angeles         50933  \n",
      "16  Philadelphia        101308  \n",
      "17  Philadelphia        119218  \n",
      "18       Houston        107842  \n",
      "19       Chicago         55892  \n",
      "20       Houston         60556  \n",
      "21   San Antonio         54189  \n",
      "22       Houston         65278  \n",
      "23     San Diego         44944  \n",
      "24  Philadelphia         77901  \n",
      "25  Philadelphia        118877  \n",
      "26  Philadelphia         58424  \n",
      "27  Philadelphia         78695  \n",
      "28       Houston        113310  \n",
      "29   San Antonio         63155  \n",
      "30       Houston         54490  \n",
      "31      New York         89299  \n",
      "32       Chicago         78460  \n",
      "33       Chicago         58082  \n",
      "34       Chicago        114480  \n",
      "35      New York         93610  \n",
      "36   Los Angeles         46803  \n",
      "37   Los Angeles        100719  \n",
      "38       Houston         77634  \n",
      "39       Chicago         55036  \n",
      "40     San Diego         41846  \n",
      "41  Philadelphia         86396  \n",
      "42  Philadelphia        101156  \n",
      "43  Philadelphia         80431  \n",
      "44       Houston         87162  \n",
      "45   Los Angeles         62168  \n",
      "46   San Antonio         52192  \n",
      "47   Los Angeles         91608  \n",
      "48   San Antonio         58347  \n",
      "49   Los Angeles         95970  \n"
     ]
    }
   ],
   "source": [
    "import pandas as pd\n",
    "\n",
    "data = pd.read_excel(\"Employee_data.xlsx\")\n",
    "print(data)"
   ]
  },
  {
   "cell_type": "code",
   "execution_count": 50,
   "id": "f97e599c-33e7-43ea-a99e-3e492a047aa0",
   "metadata": {},
   "outputs": [
    {
     "name": "stdout",
     "output_type": "stream",
     "text": [
      "   Employee ID First Name Last Name        Department     Position  \\\n",
      "0      EMP0001       Emma  Anderson        Operations    Assistant   \n",
      "1      EMP0002     Olivia    Thomas        Operations      Manager   \n",
      "2      EMP0003       Noah     Brown             Sales  Coordinator   \n",
      "3      EMP0004      Ethan    Martin                IT  Coordinator   \n",
      "4      EMP0005       Liam     Brown  Customer Service  Coordinator   \n",
      "5      EMP0006       Emma  Anderson             Sales      Manager   \n",
      "6      EMP0007     Olivia     Brown             Sales   Specialist   \n",
      "7      EMP0008       John    Harris                HR      Analyst   \n",
      "8      EMP0009      Ethan     Brown        Operations    Assistant   \n",
      "9      EMP0010    Michael     Smith             Sales   Specialist   \n",
      "10     EMP0011        Ava   Jackson         Marketing      Analyst   \n",
      "11     EMP0012       Emma    Harris  Customer Service    Assistant   \n",
      "12     EMP0013       Liam    Taylor        Operations   Specialist   \n",
      "13     EMP0014       Noah  Anderson           Finance      Analyst   \n",
      "14     EMP0015    Michael     Smith             Sales      Manager   \n",
      "15     EMP0016       Emma     Smith             Sales      Analyst   \n",
      "16     EMP0017      Ethan   Johnson                HR    Executive   \n",
      "17     EMP0018   Isabella    Taylor           Finance      Analyst   \n",
      "18     EMP0019        Ava    Taylor             Sales    Executive   \n",
      "19     EMP0020   Isabella     Smith                HR      Manager   \n",
      "20     EMP0021        Ava    Thomas        Operations   Specialist   \n",
      "21     EMP0022   Isabella    Harris         Marketing      Manager   \n",
      "22     EMP0023       Emma     Brown                IT    Assistant   \n",
      "23     EMP0024       Liam     White  Customer Service      Analyst   \n",
      "24     EMP0025   Isabella    Taylor             Sales    Assistant   \n",
      "25     EMP0026       John    Thomas                IT   Specialist   \n",
      "26     EMP0027     Olivia  Anderson                IT   Specialist   \n",
      "27     EMP0028       Liam     Smith                IT  Coordinator   \n",
      "28     EMP0029       John    Harris         Marketing    Executive   \n",
      "29     EMP0030       John     Smith             Sales      Manager   \n",
      "30     EMP0031       Noah    Harris  Customer Service    Executive   \n",
      "31     EMP0032        Ava    Taylor  Customer Service      Manager   \n",
      "32     EMP0033       Liam     Smith                HR    Executive   \n",
      "33     EMP0034    Michael    Martin  Customer Service  Coordinator   \n",
      "34     EMP0035   Isabella  Anderson             Sales      Analyst   \n",
      "35     EMP0036    Michael     Brown        Operations  Coordinator   \n",
      "36     EMP0037    Michael    Martin                IT      Analyst   \n",
      "37     EMP0038    Michael    Taylor         Marketing  Coordinator   \n",
      "38     EMP0039       Emma     Brown             Sales    Executive   \n",
      "39     EMP0040     Olivia     Brown             Sales    Assistant   \n",
      "40     EMP0041       John  Anderson         Marketing    Assistant   \n",
      "41     EMP0042        Ava     White                IT   Specialist   \n",
      "42     EMP0043     Olivia     White                IT  Coordinator   \n",
      "43     EMP0044    Michael    Taylor                IT  Coordinator   \n",
      "44     EMP0045    Michael    Taylor                HR      Analyst   \n",
      "45     EMP0046       John  Anderson  Customer Service    Assistant   \n",
      "46     EMP0047     Olivia    Harris         Marketing    Assistant   \n",
      "47     EMP0048       Liam    Martin           Finance    Executive   \n",
      "48     EMP0049      Ethan   Johnson                IT      Manager   \n",
      "49     EMP0050       Emma     Brown  Customer Service      Analyst   \n",
      "\n",
      "            City  Salary (USD)          Full Name  \n",
      "0       New York         91974      Emma Anderson  \n",
      "1      San Diego         64931      Olivia Thomas  \n",
      "2    San Antonio         85945         Noah Brown  \n",
      "3    Los Angeles         65273       Ethan Martin  \n",
      "4   Philadelphia         87009         Liam Brown  \n",
      "5    Los Angeles         47057      Emma Anderson  \n",
      "6    Los Angeles        100193       Olivia Brown  \n",
      "7       New York         45613        John Harris  \n",
      "8    Los Angeles         93016        Ethan Brown  \n",
      "9       New York         68990      Michael Smith  \n",
      "10     San Diego        105629        Ava Jackson  \n",
      "11     San Diego        102214        Emma Harris  \n",
      "12   Los Angeles         77615        Liam Taylor  \n",
      "13       Houston         67584      Noah Anderson  \n",
      "14       Phoenix        100459      Michael Smith  \n",
      "15   Los Angeles         50933         Emma Smith  \n",
      "16  Philadelphia        101308      Ethan Johnson  \n",
      "17  Philadelphia        119218    Isabella Taylor  \n",
      "18       Houston        107842         Ava Taylor  \n",
      "19       Chicago         55892     Isabella Smith  \n",
      "20       Houston         60556         Ava Thomas  \n",
      "21   San Antonio         54189    Isabella Harris  \n",
      "22       Houston         65278         Emma Brown  \n",
      "23     San Diego         44944         Liam White  \n",
      "24  Philadelphia         77901    Isabella Taylor  \n",
      "25  Philadelphia        118877        John Thomas  \n",
      "26  Philadelphia         58424    Olivia Anderson  \n",
      "27  Philadelphia         78695         Liam Smith  \n",
      "28       Houston        113310        John Harris  \n",
      "29   San Antonio         63155         John Smith  \n",
      "30       Houston         54490        Noah Harris  \n",
      "31      New York         89299         Ava Taylor  \n",
      "32       Chicago         78460         Liam Smith  \n",
      "33       Chicago         58082     Michael Martin  \n",
      "34       Chicago        114480  Isabella Anderson  \n",
      "35      New York         93610      Michael Brown  \n",
      "36   Los Angeles         46803     Michael Martin  \n",
      "37   Los Angeles        100719     Michael Taylor  \n",
      "38       Houston         77634         Emma Brown  \n",
      "39       Chicago         55036       Olivia Brown  \n",
      "40     San Diego         41846      John Anderson  \n",
      "41  Philadelphia         86396          Ava White  \n",
      "42  Philadelphia        101156       Olivia White  \n",
      "43  Philadelphia         80431     Michael Taylor  \n",
      "44       Houston         87162     Michael Taylor  \n",
      "45   Los Angeles         62168      John Anderson  \n",
      "46   San Antonio         52192      Olivia Harris  \n",
      "47   Los Angeles         91608        Liam Martin  \n",
      "48   San Antonio         58347      Ethan Johnson  \n",
      "49   Los Angeles         95970         Emma Brown  \n"
     ]
    }
   ],
   "source": [
    "data [\"Full Name\"] = data[\"First Name\"] + \" \" + data[\"Last Name\"] \n",
    "print(data)"
   ]
  },
  {
   "cell_type": "code",
   "execution_count": 3,
   "id": "2747ff80-44b0-4735-9e34-2c952199eb81",
   "metadata": {},
   "outputs": [
    {
     "name": "stdout",
     "output_type": "stream",
     "text": [
      "   Employee ID First Name Last Name        Department     Position  \\\n",
      "0      EMP0001       Emma  Anderson        Operations    Assistant   \n",
      "1      EMP0002     Olivia    Thomas        Operations      Manager   \n",
      "2      EMP0003       Noah     Brown             Sales  Coordinator   \n",
      "3      EMP0004      Ethan    Martin                IT  Coordinator   \n",
      "4      EMP0005       Liam     Brown  Customer Service  Coordinator   \n",
      "5      EMP0006       Emma  Anderson             Sales      Manager   \n",
      "6      EMP0007     Olivia     Brown             Sales   Specialist   \n",
      "7      EMP0008       John    Harris                HR      Analyst   \n",
      "8      EMP0009      Ethan     Brown        Operations    Assistant   \n",
      "9      EMP0010    Michael     Smith             Sales   Specialist   \n",
      "10     EMP0011        Ava   Jackson         Marketing      Analyst   \n",
      "11     EMP0012       Emma    Harris  Customer Service    Assistant   \n",
      "12     EMP0013       Liam    Taylor        Operations   Specialist   \n",
      "13     EMP0014       Noah  Anderson           Finance      Analyst   \n",
      "14     EMP0015    Michael     Smith             Sales      Manager   \n",
      "15     EMP0016       Emma     Smith             Sales      Analyst   \n",
      "16     EMP0017      Ethan   Johnson                HR    Executive   \n",
      "17     EMP0018   Isabella    Taylor           Finance      Analyst   \n",
      "18     EMP0019        Ava    Taylor             Sales    Executive   \n",
      "19     EMP0020   Isabella     Smith                HR      Manager   \n",
      "20     EMP0021        Ava    Thomas        Operations   Specialist   \n",
      "21     EMP0022   Isabella    Harris         Marketing      Manager   \n",
      "22     EMP0023       Emma     Brown                IT    Assistant   \n",
      "23     EMP0024       Liam     White  Customer Service      Analyst   \n",
      "24     EMP0025   Isabella    Taylor             Sales    Assistant   \n",
      "25     EMP0026       John    Thomas                IT   Specialist   \n",
      "26     EMP0027     Olivia  Anderson                IT   Specialist   \n",
      "27     EMP0028       Liam     Smith                IT  Coordinator   \n",
      "28     EMP0029       John    Harris         Marketing    Executive   \n",
      "29     EMP0030       John     Smith             Sales      Manager   \n",
      "30     EMP0031       Noah    Harris  Customer Service    Executive   \n",
      "31     EMP0032        Ava    Taylor  Customer Service      Manager   \n",
      "32     EMP0033       Liam     Smith                HR    Executive   \n",
      "33     EMP0034    Michael    Martin  Customer Service  Coordinator   \n",
      "34     EMP0035   Isabella  Anderson             Sales      Analyst   \n",
      "35     EMP0036    Michael     Brown        Operations  Coordinator   \n",
      "36     EMP0037    Michael    Martin                IT      Analyst   \n",
      "37     EMP0038    Michael    Taylor         Marketing  Coordinator   \n",
      "38     EMP0039       Emma     Brown             Sales    Executive   \n",
      "39     EMP0040     Olivia     Brown             Sales    Assistant   \n",
      "40     EMP0041       John  Anderson         Marketing    Assistant   \n",
      "41     EMP0042        Ava     White                IT   Specialist   \n",
      "42     EMP0043     Olivia     White                IT  Coordinator   \n",
      "43     EMP0044    Michael    Taylor                IT  Coordinator   \n",
      "44     EMP0045    Michael    Taylor                HR      Analyst   \n",
      "45     EMP0046       John  Anderson  Customer Service    Assistant   \n",
      "46     EMP0047     Olivia    Harris         Marketing    Assistant   \n",
      "47     EMP0048       Liam    Martin           Finance    Executive   \n",
      "48     EMP0049      Ethan   Johnson                IT      Manager   \n",
      "49     EMP0050       Emma     Brown  Customer Service      Analyst   \n",
      "\n",
      "            City  Salary (USD)          Full Name    Bonus  \n",
      "0       New York         91974      Emma Anderson  18394.8  \n",
      "1      San Diego         64931      Olivia Thomas  12986.2  \n",
      "2    San Antonio         85945         Noah Brown  17189.0  \n",
      "3    Los Angeles         65273       Ethan Martin  13054.6  \n",
      "4   Philadelphia         87009         Liam Brown  17401.8  \n",
      "5    Los Angeles         47057      Emma Anderson   9411.4  \n",
      "6    Los Angeles        100193       Olivia Brown  20038.6  \n",
      "7       New York         45613        John Harris   9122.6  \n",
      "8    Los Angeles         93016        Ethan Brown  18603.2  \n",
      "9       New York         68990      Michael Smith  13798.0  \n",
      "10     San Diego        105629        Ava Jackson  21125.8  \n",
      "11     San Diego        102214        Emma Harris  20442.8  \n",
      "12   Los Angeles         77615        Liam Taylor  15523.0  \n",
      "13       Houston         67584      Noah Anderson  13516.8  \n",
      "14       Phoenix        100459      Michael Smith  20091.8  \n",
      "15   Los Angeles         50933         Emma Smith  10186.6  \n",
      "16  Philadelphia        101308      Ethan Johnson  20261.6  \n",
      "17  Philadelphia        119218    Isabella Taylor  23843.6  \n",
      "18       Houston        107842         Ava Taylor  21568.4  \n",
      "19       Chicago         55892     Isabella Smith  11178.4  \n",
      "20       Houston         60556         Ava Thomas  12111.2  \n",
      "21   San Antonio         54189    Isabella Harris  10837.8  \n",
      "22       Houston         65278         Emma Brown  13055.6  \n",
      "23     San Diego         44944         Liam White   8988.8  \n",
      "24  Philadelphia         77901    Isabella Taylor  15580.2  \n",
      "25  Philadelphia        118877        John Thomas  23775.4  \n",
      "26  Philadelphia         58424    Olivia Anderson  11684.8  \n",
      "27  Philadelphia         78695         Liam Smith  15739.0  \n",
      "28       Houston        113310        John Harris  22662.0  \n",
      "29   San Antonio         63155         John Smith  12631.0  \n",
      "30       Houston         54490        Noah Harris  10898.0  \n",
      "31      New York         89299         Ava Taylor  17859.8  \n",
      "32       Chicago         78460         Liam Smith  15692.0  \n",
      "33       Chicago         58082     Michael Martin  11616.4  \n",
      "34       Chicago        114480  Isabella Anderson  22896.0  \n",
      "35      New York         93610      Michael Brown  18722.0  \n",
      "36   Los Angeles         46803     Michael Martin   9360.6  \n",
      "37   Los Angeles        100719     Michael Taylor  20143.8  \n",
      "38       Houston         77634         Emma Brown  15526.8  \n",
      "39       Chicago         55036       Olivia Brown  11007.2  \n",
      "40     San Diego         41846      John Anderson   8369.2  \n",
      "41  Philadelphia         86396          Ava White  17279.2  \n",
      "42  Philadelphia        101156       Olivia White  20231.2  \n",
      "43  Philadelphia         80431     Michael Taylor  16086.2  \n",
      "44       Houston         87162     Michael Taylor  17432.4  \n",
      "45   Los Angeles         62168      John Anderson  12433.6  \n",
      "46   San Antonio         52192      Olivia Harris  10438.4  \n",
      "47   Los Angeles         91608        Liam Martin  18321.6  \n",
      "48   San Antonio         58347      Ethan Johnson  11669.4  \n",
      "49   Los Angeles         95970         Emma Brown  19194.0  \n"
     ]
    }
   ],
   "source": [
    "data[\"Bonus\"] = (data[\"Salary (USD)\"] / 100 ) * 20\n",
    "print(data)"
   ]
  },
  {
   "cell_type": "code",
   "execution_count": 51,
   "id": "bb368f4c-e881-4860-a970-cacb2cde03a1",
   "metadata": {},
   "outputs": [
    {
     "name": "stdout",
     "output_type": "stream",
     "text": [
      "   Employee ID First Name Last Name        Department     Position  \\\n",
      "0      EMP0001       Emma  Anderson        Operations    Assistant   \n",
      "1      EMP0002     Olivia    Thomas        Operations      Manager   \n",
      "2      EMP0003       Noah     Brown             Sales  Coordinator   \n",
      "3      EMP0004      Ethan    Martin                IT  Coordinator   \n",
      "4      EMP0005       Liam     Brown  Customer Service  Coordinator   \n",
      "5      EMP0006       Emma  Anderson             Sales      Manager   \n",
      "6      EMP0007     Olivia     Brown             Sales   Specialist   \n",
      "7      EMP0008       John    Harris                HR      Analyst   \n",
      "8      EMP0009      Ethan     Brown        Operations    Assistant   \n",
      "9      EMP0010    Michael     Smith             Sales   Specialist   \n",
      "10     EMP0011        Ava   Jackson         Marketing      Analyst   \n",
      "11     EMP0012       Emma    Harris  Customer Service    Assistant   \n",
      "12     EMP0013       Liam    Taylor        Operations   Specialist   \n",
      "13     EMP0014       Noah  Anderson           Finance      Analyst   \n",
      "14     EMP0015    Michael     Smith             Sales      Manager   \n",
      "15     EMP0016       Emma     Smith             Sales      Analyst   \n",
      "16     EMP0017      Ethan   Johnson                HR    Executive   \n",
      "17     EMP0018   Isabella    Taylor           Finance      Analyst   \n",
      "18     EMP0019        Ava    Taylor             Sales    Executive   \n",
      "19     EMP0020   Isabella     Smith                HR      Manager   \n",
      "20     EMP0021        Ava    Thomas        Operations   Specialist   \n",
      "21     EMP0022   Isabella    Harris         Marketing      Manager   \n",
      "22     EMP0023       Emma     Brown                IT    Assistant   \n",
      "23     EMP0024       Liam     White  Customer Service      Analyst   \n",
      "24     EMP0025   Isabella    Taylor             Sales    Assistant   \n",
      "25     EMP0026       John    Thomas                IT   Specialist   \n",
      "26     EMP0027     Olivia  Anderson                IT   Specialist   \n",
      "27     EMP0028       Liam     Smith                IT  Coordinator   \n",
      "28     EMP0029       John    Harris         Marketing    Executive   \n",
      "29     EMP0030       John     Smith             Sales      Manager   \n",
      "30     EMP0031       Noah    Harris  Customer Service    Executive   \n",
      "31     EMP0032        Ava    Taylor  Customer Service      Manager   \n",
      "32     EMP0033       Liam     Smith                HR    Executive   \n",
      "33     EMP0034    Michael    Martin  Customer Service  Coordinator   \n",
      "34     EMP0035   Isabella  Anderson             Sales      Analyst   \n",
      "35     EMP0036    Michael     Brown        Operations  Coordinator   \n",
      "36     EMP0037    Michael    Martin                IT      Analyst   \n",
      "37     EMP0038    Michael    Taylor         Marketing  Coordinator   \n",
      "38     EMP0039       Emma     Brown             Sales    Executive   \n",
      "39     EMP0040     Olivia     Brown             Sales    Assistant   \n",
      "40     EMP0041       John  Anderson         Marketing    Assistant   \n",
      "41     EMP0042        Ava     White                IT   Specialist   \n",
      "42     EMP0043     Olivia     White                IT  Coordinator   \n",
      "43     EMP0044    Michael    Taylor                IT  Coordinator   \n",
      "44     EMP0045    Michael    Taylor                HR      Analyst   \n",
      "45     EMP0046       John  Anderson  Customer Service    Assistant   \n",
      "46     EMP0047     Olivia    Harris         Marketing    Assistant   \n",
      "47     EMP0048       Liam    Martin           Finance    Executive   \n",
      "48     EMP0049      Ethan   Johnson                IT      Manager   \n",
      "49     EMP0050       Emma     Brown  Customer Service      Analyst   \n",
      "\n",
      "            City  Salary (USD)          Full Name emp_city  \n",
      "0       New York         91974      Emma Anderson   New Yo  \n",
      "1      San Diego         64931      Olivia Thomas   San Di  \n",
      "2    San Antonio         85945         Noah Brown   San An  \n",
      "3    Los Angeles         65273       Ethan Martin   Los An  \n",
      "4   Philadelphia         87009         Liam Brown   Philad  \n",
      "5    Los Angeles         47057      Emma Anderson   Los An  \n",
      "6    Los Angeles        100193       Olivia Brown   Los An  \n",
      "7       New York         45613        John Harris   New Yo  \n",
      "8    Los Angeles         93016        Ethan Brown   Los An  \n",
      "9       New York         68990      Michael Smith   New Yo  \n",
      "10     San Diego        105629        Ava Jackson   San Di  \n",
      "11     San Diego        102214        Emma Harris   San Di  \n",
      "12   Los Angeles         77615        Liam Taylor   Los An  \n",
      "13       Houston         67584      Noah Anderson   Housto  \n",
      "14       Phoenix        100459      Michael Smith   Phoeni  \n",
      "15   Los Angeles         50933         Emma Smith   Los An  \n",
      "16  Philadelphia        101308      Ethan Johnson   Philad  \n",
      "17  Philadelphia        119218    Isabella Taylor   Philad  \n",
      "18       Houston        107842         Ava Taylor   Housto  \n",
      "19       Chicago         55892     Isabella Smith   Chicag  \n",
      "20       Houston         60556         Ava Thomas   Housto  \n",
      "21   San Antonio         54189    Isabella Harris   San An  \n",
      "22       Houston         65278         Emma Brown   Housto  \n",
      "23     San Diego         44944         Liam White   San Di  \n",
      "24  Philadelphia         77901    Isabella Taylor   Philad  \n",
      "25  Philadelphia        118877        John Thomas   Philad  \n",
      "26  Philadelphia         58424    Olivia Anderson   Philad  \n",
      "27  Philadelphia         78695         Liam Smith   Philad  \n",
      "28       Houston        113310        John Harris   Housto  \n",
      "29   San Antonio         63155         John Smith   San An  \n",
      "30       Houston         54490        Noah Harris   Housto  \n",
      "31      New York         89299         Ava Taylor   New Yo  \n",
      "32       Chicago         78460         Liam Smith   Chicag  \n",
      "33       Chicago         58082     Michael Martin   Chicag  \n",
      "34       Chicago        114480  Isabella Anderson   Chicag  \n",
      "35      New York         93610      Michael Brown   New Yo  \n",
      "36   Los Angeles         46803     Michael Martin   Los An  \n",
      "37   Los Angeles        100719     Michael Taylor   Los An  \n",
      "38       Houston         77634         Emma Brown   Housto  \n",
      "39       Chicago         55036       Olivia Brown   Chicag  \n",
      "40     San Diego         41846      John Anderson   San Di  \n",
      "41  Philadelphia         86396          Ava White   Philad  \n",
      "42  Philadelphia        101156       Olivia White   Philad  \n",
      "43  Philadelphia         80431     Michael Taylor   Philad  \n",
      "44       Houston         87162     Michael Taylor   Housto  \n",
      "45   Los Angeles         62168      John Anderson   Los An  \n",
      "46   San Antonio         52192      Olivia Harris   San An  \n",
      "47   Los Angeles         91608        Liam Martin   Los An  \n",
      "48   San Antonio         58347      Ethan Johnson   San An  \n",
      "49   Los Angeles         95970         Emma Brown   Los An  \n"
     ]
    }
   ],
   "source": [
    "def extract(value) :\n",
    "    return value[0:6]\n",
    "\n",
    "data[\"emp_city\"] = data[\"City\"].map(extract)\n",
    "print(data)"
   ]
  },
  {
   "cell_type": "code",
   "execution_count": null,
   "id": "6ae21cc0-10f5-4490-bc8f-ab29f5c67111",
   "metadata": {},
   "outputs": [],
   "source": [
    "# GROUP BY IN PANDAS"
   ]
  },
  {
   "cell_type": "code",
   "execution_count": 11,
   "id": "27ebb66f-bd5e-4327-baf5-6a94b8a6bde7",
   "metadata": {},
   "outputs": [
    {
     "name": "stdout",
     "output_type": "stream",
     "text": [
      "             Employee ID\n",
      "Position                \n",
      "Analyst               10\n",
      "Assistant              9\n",
      "Coordinator            9\n",
      "Executive              7\n",
      "Manager                8\n",
      "Specialist             7\n"
     ]
    }
   ],
   "source": [
    "gb = data.groupby(\"Position\").agg({\"Employee ID\":\"count\"})\n",
    "print(gb)"
   ]
  },
  {
   "cell_type": "code",
   "execution_count": 15,
   "id": "9b740ede-dedd-44f5-94f1-9ce43952dc3e",
   "metadata": {},
   "outputs": [
    {
     "name": "stdout",
     "output_type": "stream",
     "text": [
      "                              Employee ID\n",
      "Department       Position                \n",
      "Customer Service Analyst                2\n",
      "                 Assistant              2\n",
      "                 Coordinator            2\n",
      "                 Executive              1\n",
      "                 Manager                1\n",
      "Finance          Analyst                2\n",
      "                 Executive              1\n",
      "HR               Analyst                2\n",
      "                 Executive              2\n",
      "                 Manager                1\n",
      "IT               Analyst                1\n",
      "                 Assistant              1\n",
      "                 Coordinator            4\n",
      "                 Manager                1\n",
      "                 Specialist             3\n",
      "Marketing        Analyst                1\n",
      "                 Assistant              2\n",
      "                 Coordinator            1\n",
      "                 Executive              1\n",
      "                 Manager                1\n",
      "Operations       Assistant              2\n",
      "                 Coordinator            1\n",
      "                 Manager                1\n",
      "                 Specialist             2\n",
      "Sales            Analyst                2\n",
      "                 Assistant              2\n",
      "                 Coordinator            1\n",
      "                 Executive              2\n",
      "                 Manager                3\n",
      "                 Specialist             2\n"
     ]
    }
   ],
   "source": [
    "gb = data.groupby([\"Department\",\"Position\"]).agg({\"Employee ID\":\"count\"})\n",
    "print(gb)"
   ]
  },
  {
   "cell_type": "code",
   "execution_count": 52,
   "id": "7a834df8-5bd3-4a7e-b4ef-024dcfe89984",
   "metadata": {},
   "outputs": [
    {
     "name": "stdout",
     "output_type": "stream",
     "text": [
      "                              Employee ID\n",
      "Position    Department                   \n",
      "Analyst     Customer Service            2\n",
      "            Finance                     2\n",
      "            HR                          2\n",
      "            IT                          1\n",
      "            Marketing                   1\n",
      "            Sales                       2\n",
      "Assistant   Customer Service            2\n",
      "            IT                          1\n",
      "            Marketing                   2\n",
      "            Operations                  2\n",
      "            Sales                       2\n",
      "Coordinator Customer Service            2\n",
      "            IT                          4\n",
      "            Marketing                   1\n",
      "            Operations                  1\n",
      "            Sales                       1\n",
      "Executive   Customer Service            1\n",
      "            Finance                     1\n",
      "            HR                          2\n",
      "            Marketing                   1\n",
      "            Sales                       2\n",
      "Manager     Customer Service            1\n",
      "            HR                          1\n",
      "            IT                          1\n",
      "            Marketing                   1\n",
      "            Operations                  1\n",
      "            Sales                       3\n",
      "Specialist  IT                          3\n",
      "            Operations                  2\n",
      "            Sales                       2\n"
     ]
    }
   ],
   "source": [
    "gb = data.groupby([\"Position\",\"Department\"]).agg({\"Employee ID\":\"count\"})\n",
    "print(gb)"
   ]
  },
  {
   "cell_type": "code",
   "execution_count": 17,
   "id": "8f1ebd5b-95c7-4be6-bbab-615e557566c2",
   "metadata": {},
   "outputs": [
    {
     "name": "stdout",
     "output_type": "stream",
     "text": [
      "               Salary (USD)\n",
      "City                       \n",
      "Chicago        72390.000000\n",
      "Houston        79232.000000\n",
      "Los Angeles    75577.727273\n",
      "New York       77897.200000\n",
      "Philadelphia   90941.500000\n",
      "Phoenix       100459.000000\n",
      "San Antonio    62765.600000\n",
      "San Diego      71912.800000\n"
     ]
    }
   ],
   "source": [
    "mean_salary = data.groupby(\"City\").agg({\"Salary (USD)\":\"mean\"})\n",
    "print(mean_salary)"
   ]
  },
  {
   "cell_type": "code",
   "execution_count": 19,
   "id": "59f25c33-fdba-4467-9279-7de565ad4845",
   "metadata": {},
   "outputs": [
    {
     "name": "stdout",
     "output_type": "stream",
     "text": [
      "              Salary (USD)\n",
      "City                      \n",
      "Chicago             114480\n",
      "Houston             113310\n",
      "Los Angeles         100719\n",
      "New York             93610\n",
      "Philadelphia        119218\n",
      "Phoenix             100459\n",
      "San Antonio          85945\n",
      "San Diego           105629\n"
     ]
    }
   ],
   "source": [
    "max_salary = data.groupby(\"City\").agg({\"Salary (USD)\":\"max\"})\n",
    "print(max_salary)"
   ]
  },
  {
   "cell_type": "code",
   "execution_count": 20,
   "id": "f297fa60-e8fa-4e6c-8bce-11e12da7788e",
   "metadata": {},
   "outputs": [
    {
     "name": "stdout",
     "output_type": "stream",
     "text": [
      "              Salary (USD)\n",
      "City                      \n",
      "Chicago              55036\n",
      "Houston              54490\n",
      "Los Angeles          46803\n",
      "New York             45613\n",
      "Philadelphia         58424\n",
      "Phoenix             100459\n",
      "San Antonio          52192\n",
      "San Diego            41846\n"
     ]
    }
   ],
   "source": [
    "min_salary = data.groupby(\"City\").agg({\"Salary (USD)\":\"min\"})\n",
    "print(min_salary)"
   ]
  },
  {
   "cell_type": "code",
   "execution_count": 22,
   "id": "a8c3b5cb-01e0-4a15-a552-f79ec80784ce",
   "metadata": {},
   "outputs": [
    {
     "name": "stdout",
     "output_type": "stream",
     "text": [
      "                                           Salary (USD)\n",
      "City         Department       Position                 \n",
      "Chicago      Customer Service Coordinator         58082\n",
      "             HR               Executive           78460\n",
      "                              Manager             55892\n",
      "             Sales            Analyst            114480\n",
      "                              Assistant           55036\n",
      "Houston      Customer Service Executive           54490\n",
      "             Finance          Analyst             67584\n",
      "             HR               Analyst             87162\n",
      "             IT               Assistant           65278\n",
      "             Marketing        Executive          113310\n",
      "             Operations       Specialist          60556\n",
      "             Sales            Executive          107842\n",
      "Los Angeles  Customer Service Analyst             95970\n",
      "                              Assistant           62168\n",
      "             Finance          Executive           91608\n",
      "             IT               Analyst             46803\n",
      "                              Coordinator         65273\n",
      "             Marketing        Coordinator        100719\n",
      "             Operations       Assistant           93016\n",
      "                              Specialist          77615\n",
      "             Sales            Analyst             50933\n",
      "                              Manager             47057\n",
      "                              Specialist         100193\n",
      "New York     Customer Service Manager             89299\n",
      "             HR               Analyst             45613\n",
      "             Operations       Assistant           91974\n",
      "                              Coordinator         93610\n",
      "             Sales            Specialist          68990\n",
      "Philadelphia Customer Service Coordinator         87009\n",
      "             Finance          Analyst            119218\n",
      "             HR               Executive          101308\n",
      "             IT               Coordinator        101156\n",
      "                              Specialist         118877\n",
      "             Sales            Assistant           77901\n",
      "Phoenix      Sales            Manager            100459\n",
      "San Antonio  IT               Manager             58347\n",
      "             Marketing        Assistant           52192\n",
      "                              Manager             54189\n",
      "             Sales            Coordinator         85945\n",
      "                              Manager             63155\n",
      "San Diego    Customer Service Analyst             44944\n",
      "                              Assistant          102214\n",
      "             Marketing        Analyst            105629\n",
      "                              Assistant           41846\n",
      "             Operations       Manager             64931\n"
     ]
    }
   ],
   "source": [
    "max_salary = data.groupby([\"City\",\"Department\",\"Position\"]).agg({\"Salary (USD)\":\"max\"})\n",
    "print(max_salary)"
   ]
  },
  {
   "cell_type": "code",
   "execution_count": 4,
   "id": "39bf1013-be58-45c0-bd9e-483b771d359e",
   "metadata": {},
   "outputs": [
    {
     "name": "stdout",
     "output_type": "stream",
     "text": [
      "       order_id        date      time\n",
      "0             1  2015-01-01  11:38:36\n",
      "1             2  2015-01-01  11:57:40\n",
      "2             3  2015-01-01  12:12:28\n",
      "3             4  2015-01-01  12:16:31\n",
      "4             5  2015-01-01  12:21:30\n",
      "...         ...         ...       ...\n",
      "21345     21346  2015-12-31  20:51:07\n",
      "21346     21347  2015-12-31  21:14:37\n",
      "21347     21348  2015-12-31  21:23:10\n",
      "21348     21349  2015-12-31  22:09:54\n",
      "21349     21350  2015-12-31  23:02:05\n",
      "\n",
      "[21350 rows x 3 columns]\n",
      "       order_details_id  order_id       pizza_id  quantity\n",
      "0                     1         1     hawaiian_m         1\n",
      "1                     2         2  classic_dlx_m         1\n",
      "2                     3         2  five_cheese_l         1\n",
      "3                     4         2    ital_supr_l         1\n",
      "4                     5         2     mexicana_m         1\n",
      "...                 ...       ...            ...       ...\n",
      "48615             48616     21348  ckn_alfredo_m         1\n",
      "48616             48617     21348  four_cheese_l         1\n",
      "48617             48618     21348   napolitana_s         1\n",
      "48618             48619     21349     mexicana_l         1\n",
      "48619             48620     21350      bbq_ckn_s         1\n",
      "\n",
      "[48620 rows x 4 columns]\n"
     ]
    }
   ],
   "source": [
    "import pandas as pd\n",
    "\n",
    "d1 = pd.read_csv(\"orders.csv\")\n",
    "d2 = pd.read_csv(\"order_details.csv\")\n",
    "print(d1)\n",
    "print(d2)"
   ]
  },
  {
   "cell_type": "code",
   "execution_count": 5,
   "id": "c4fb9cd1-370e-4045-91a3-c0dcc8676d29",
   "metadata": {},
   "outputs": [
    {
     "name": "stdout",
     "output_type": "stream",
     "text": [
      "       order_id        date      time  order_details_id       pizza_id  \\\n",
      "0             1  2015-01-01  11:38:36                 1     hawaiian_m   \n",
      "1             2  2015-01-01  11:57:40                 2  classic_dlx_m   \n",
      "2             2  2015-01-01  11:57:40                 3  five_cheese_l   \n",
      "3             2  2015-01-01  11:57:40                 4    ital_supr_l   \n",
      "4             2  2015-01-01  11:57:40                 5     mexicana_m   \n",
      "...         ...         ...       ...               ...            ...   \n",
      "48615     21348  2015-12-31  21:23:10             48616  ckn_alfredo_m   \n",
      "48616     21348  2015-12-31  21:23:10             48617  four_cheese_l   \n",
      "48617     21348  2015-12-31  21:23:10             48618   napolitana_s   \n",
      "48618     21349  2015-12-31  22:09:54             48619     mexicana_l   \n",
      "48619     21350  2015-12-31  23:02:05             48620      bbq_ckn_s   \n",
      "\n",
      "       quantity  \n",
      "0             1  \n",
      "1             1  \n",
      "2             1  \n",
      "3             1  \n",
      "4             1  \n",
      "...         ...  \n",
      "48615         1  \n",
      "48616         1  \n",
      "48617         1  \n",
      "48618         1  \n",
      "48619         1  \n",
      "\n",
      "[48620 rows x 6 columns]\n"
     ]
    }
   ],
   "source": [
    "print(pd.merge(d1,d2,on = \"order_id\"))"
   ]
  },
  {
   "cell_type": "code",
   "execution_count": 16,
   "id": "6690a00a-bd3a-466e-9083-edd00fe18169",
   "metadata": {},
   "outputs": [
    {
     "name": "stdout",
     "output_type": "stream",
     "text": [
      "  Emp Id   Names  Age\n",
      "0    Ε01     Ram   34\n",
      "1    Ε02   Shyam   56\n",
      "2    Ε03   Rahul   23\n",
      "3    Ε04  Vishal   44\n",
      "4    E05    Ravi   32\n",
      "5    E06  Aakash   40\n",
      "  Emp Id  Salary\n",
      "0    Ε01   45000\n",
      "1    Ε02   56000\n",
      "2    Ε03   34000\n",
      "3    E04   30000\n",
      "4    E05   60000\n",
      "5    E06   50000\n"
     ]
    }
   ],
   "source": [
    "data1 = {\"Emp Id\":[\"Ε01\", \"Ε02\", \"Ε03\", \"Ε04\", \"E05\", \"E06\"],\n",
    "       \"Names\":[\"Ram\", \"Shyam\", \"Rahul\", \"Vishal\", \"Ravi\",\"Aakash\"],\n",
    "       \"Age\": [34,56,23,44,32,40] }\n",
    "\n",
    "data2 = {\"Emp Id\":[\"Ε01\", \"Ε02\", \"Ε03\", \"E04\", \"E05\", \"E06\"], \n",
    "         \"Salary\": [45000, 56000, 34000, 30000, 60000,50000]}\n",
    "\n",
    "df1 = pd.DataFrame(data1)\n",
    "df2 = pd.DataFrame(data2)\n",
    "\n",
    "print(df1)\n",
    "print(df2)"
   ]
  },
  {
   "cell_type": "code",
   "execution_count": 20,
   "id": "fb1ba764-5aa4-4ada-8b38-aacb30db45e1",
   "metadata": {},
   "outputs": [
    {
     "name": "stdout",
     "output_type": "stream",
     "text": [
      "  Emp Id   Names  Age   Salary\n",
      "0    Ε01     Ram   34  45000.0\n",
      "1    Ε02   Shyam   56  56000.0\n",
      "2    Ε03   Rahul   23  34000.0\n",
      "3    Ε04  Vishal   44      NaN\n",
      "4    E05    Ravi   32  60000.0\n",
      "5    E06  Aakash   40  50000.0\n"
     ]
    }
   ],
   "source": [
    "print(pd.merge(df1,df2,on = \"Emp Id\" ,how = \"left\"))"
   ]
  },
  {
   "cell_type": "code",
   "execution_count": 21,
   "id": "9518417b-97e4-4a89-8345-a32889f03c44",
   "metadata": {},
   "outputs": [
    {
     "name": "stdout",
     "output_type": "stream",
     "text": [
      "  Emp Id   Names  Age\n",
      "0    Ε01     Ram   34\n",
      "1    Ε02   Shyam   56\n",
      "2    Ε03   Rahul   23\n",
      "3    Ε04  Vishal   44\n",
      "4    E05    Ravi   32\n",
      "5    E06  Aakash   40\n",
      "  Emp Id   Names  Age\n",
      "0    Ε07     Ram   34\n",
      "1    Ε08   Shyam   56\n",
      "2    Ε09   Rahul   23\n",
      "3    Ε10  Vishal   44\n",
      "4    E11    Ravi   32\n",
      "5    E12  Aakash   40\n"
     ]
    }
   ],
   "source": [
    "data1 = {\"Emp Id\":[\"Ε01\", \"Ε02\", \"Ε03\", \"Ε04\", \"E05\", \"E06\"],\n",
    "       \"Names\":[\"Ram\", \"Shyam\", \"Rahul\", \"Vishal\", \"Ravi\",\"Aakash\"],\n",
    "       \"Age\": [34,56,23,44,32,40] }\n",
    "\n",
    "data2 = {\"Emp Id\":[\"Ε07\", \"Ε08\", \"Ε09\", \"Ε10\", \"E11\", \"E12\"],\n",
    "       \"Names\":[\"Ram\", \"Shyam\", \"Rahul\", \"Vishal\", \"Ravi\",\"Aakash\"],\n",
    "       \"Age\": [34,56,23,44,32,40] }\n",
    "\n",
    "\n",
    "df1 = pd.DataFrame(data1)\n",
    "df2 = pd.DataFrame(data2)\n",
    "\n",
    "print(df1)\n",
    "print(df2)"
   ]
  },
  {
   "cell_type": "code",
   "execution_count": null,
   "id": "1db81e69-756e-4b78-9783-00f4abb1fb67",
   "metadata": {},
   "outputs": [],
   "source": [
    "# concatination....."
   ]
  },
  {
   "cell_type": "code",
   "execution_count": 22,
   "id": "58df1380-44b4-48fc-a5e5-61c89b1c9b25",
   "metadata": {},
   "outputs": [
    {
     "name": "stdout",
     "output_type": "stream",
     "text": [
      "  Emp Id   Names  Age\n",
      "0    Ε01     Ram   34\n",
      "1    Ε02   Shyam   56\n",
      "2    Ε03   Rahul   23\n",
      "3    Ε04  Vishal   44\n",
      "4    E05    Ravi   32\n",
      "5    E06  Aakash   40\n",
      "0    Ε07     Ram   34\n",
      "1    Ε08   Shyam   56\n",
      "2    Ε09   Rahul   23\n",
      "3    Ε10  Vishal   44\n",
      "4    E11    Ravi   32\n",
      "5    E12  Aakash   40\n"
     ]
    }
   ],
   "source": [
    "print(pd.concat([df1,df2]))"
   ]
  },
  {
   "cell_type": "code",
   "execution_count": null,
   "id": "461cfce9-cf1d-415f-9af5-7e301135f018",
   "metadata": {},
   "outputs": [],
   "source": [
    "# comparision of data....."
   ]
  },
  {
   "cell_type": "code",
   "execution_count": 25,
   "id": "e347ab4c-8b4b-46ce-9f85-b3299dcc1eef",
   "metadata": {},
   "outputs": [
    {
     "name": "stdout",
     "output_type": "stream",
     "text": [
      "  Emp Id   Names  Age\n",
      "0    Ε01     Ram   34\n",
      "1    Ε02   Shyam   56\n",
      "2    Ε03   Rahul   23\n",
      "3    Ε04  Vishal   44\n",
      "4    E05    Ravi   32\n",
      "5    E06  Aakash   40\n"
     ]
    }
   ],
   "source": [
    "df2=df1.copy()\n",
    "print(df2)"
   ]
  },
  {
   "cell_type": "code",
   "execution_count": 26,
   "id": "f082e375-f12a-4b64-a4ce-299a5f3e2f01",
   "metadata": {},
   "outputs": [
    {
     "name": "stdout",
     "output_type": "stream",
     "text": [
      "  Emp Id   Names  Age\n",
      "0    Ε01     Ram   35\n",
      "1    Ε02   Shyam   57\n",
      "2    Ε03   Rahul   24\n",
      "3    Ε04  Vishal   45\n",
      "4    E05    Ravi   33\n",
      "5    E06  Aakash   41\n"
     ]
    }
   ],
   "source": [
    "df2.loc[0,\"Age\"] = 35\n",
    "df2.loc[1,\"Age\"] = 57\n",
    "df2.loc[2,\"Age\"] = 24\n",
    "df2.loc[3,\"Age\"] = 45\n",
    "df2.loc[4,\"Age\"] = 33\n",
    "df2.loc[5,\"Age\"] = 41\n",
    "print(df2)"
   ]
  },
  {
   "cell_type": "code",
   "execution_count": 27,
   "id": "4d32d8d0-ba5d-4fae-8b69-f314fd4f0c3f",
   "metadata": {},
   "outputs": [
    {
     "name": "stdout",
     "output_type": "stream",
     "text": [
      "   Age      \n",
      "  self other\n",
      "0   34    35\n",
      "1   56    57\n",
      "2   23    24\n",
      "3   44    45\n",
      "4   32    33\n",
      "5   40    41\n"
     ]
    }
   ],
   "source": [
    "# to view changed data ...what change happened..\n",
    "print (df1.compare(df2))"
   ]
  },
  {
   "cell_type": "code",
   "execution_count": 28,
   "id": "9528febb-f708-4077-b663-8eed1cc0c521",
   "metadata": {},
   "outputs": [
    {
     "name": "stdout",
     "output_type": "stream",
     "text": [
      "   Age      \n",
      "  self other\n",
      "0   34    35\n",
      "1   56    57\n",
      "2   23    24\n",
      "3   44    45\n",
      "4   32    33\n",
      "5   40    41\n"
     ]
    }
   ],
   "source": [
    "print(df1.compare(df2 , keep_shape=False))"
   ]
  },
  {
   "cell_type": "code",
   "execution_count": null,
   "id": "4e9cf723-788c-436e-833b-8883507f0a25",
   "metadata": {},
   "outputs": [],
   "source": [
    "# Pivoting and Melthing DataFrames"
   ]
  },
  {
   "cell_type": "code",
   "execution_count": 42,
   "id": "01015a63-abc1-4616-a9a2-64ad0dae713e",
   "metadata": {},
   "outputs": [
    {
     "name": "stdout",
     "output_type": "stream",
     "text": [
      "  keys  Names Houses Grades\n",
      "0   k1    Ram    red    3rd\n",
      "1   k2  Shyam   blue    8th\n",
      "2   k1   Sita  green    9th\n",
      "3   k2  Radha    red    8th\n"
     ]
    }
   ],
   "source": [
    "import pandas as pd\n",
    "\n",
    "dict ={\"keys\":[\"k1\",\"k2\",\"k1\",\"k2\"],\n",
    "        \"Names\":[\"Ram\", \"Shyam\", \"Sita\",\"Radha\"],\n",
    "        \"Houses\":[\"red\", \"blue\", \"green\", \"red\"],\n",
    "        \"Grades\":[\"3rd\", \"8th\", \"9th\", \"8th\"] }\n",
    "df = pd.DataFrame(dict)\n",
    "print (df)\n"
   ]
  },
  {
   "cell_type": "code",
   "execution_count": 43,
   "id": "277868b6-0135-4c28-9612-cf3d091a4b00",
   "metadata": {},
   "outputs": [
    {
     "name": "stdout",
     "output_type": "stream",
     "text": [
      "      Houses                   Grades                \n",
      "Names  Radha  Ram Shyam   Sita  Radha  Ram Shyam Sita\n",
      "keys                                                 \n",
      "k1       NaN  red   NaN  green    NaN  3rd   NaN  9th\n",
      "k2       red  NaN  blue    NaN    8th  NaN   8th  NaN\n"
     ]
    }
   ],
   "source": [
    "print (df.pivot(index = \"keys\",columns = \"Names\",values = [\"Houses\",\"Grades\"]))"
   ]
  },
  {
   "cell_type": "code",
   "execution_count": 44,
   "id": "0b137390-77db-4f9b-98a8-8147c4ff2b34",
   "metadata": {},
   "outputs": [
    {
     "name": "stdout",
     "output_type": "stream",
     "text": [
      "   Names Houses Grades\n",
      "0    Ram    red    3rd\n",
      "1  Shyam   blue    8th\n",
      "2   Sita  green    9th\n",
      "3  Radha    red    8th\n"
     ]
    }
   ],
   "source": [
    "import pandas as pd\n",
    "\n",
    "dict ={ \"Names\":[\"Ram\", \"Shyam\", \"Sita\",\"Radha\"],\n",
    "        \"Houses\":[\"red\", \"blue\", \"green\", \"red\"],\n",
    "        \"Grades\":[\"3rd\", \"8th\", \"9th\", \"8th\"] }\n",
    "df = pd.DataFrame(dict)\n",
    "print (df)"
   ]
  },
  {
   "cell_type": "code",
   "execution_count": 48,
   "id": "c9c3f540-caa7-415c-a2de-348d0e632f8d",
   "metadata": {},
   "outputs": [
    {
     "name": "stdout",
     "output_type": "stream",
     "text": [
      "   Names Houses&Grades valuename\n",
      "0    Ram        Houses       red\n",
      "1  Shyam        Houses      blue\n",
      "2   Sita        Houses     green\n",
      "3  Radha        Houses       red\n",
      "4    Ram        Grades       3rd\n",
      "5  Shyam        Grades       8th\n",
      "6   Sita        Grades       9th\n",
      "7  Radha        Grades       8th\n"
     ]
    }
   ],
   "source": [
    "print(pd.melt(df , id_vars = [\"Names\"] , value_vars = [\"Houses\",\"Grades\"] , var_name = \"Houses&Grades\" , value_name = \"valuename\"))"
   ]
  },
  {
   "cell_type": "code",
   "execution_count": null,
   "id": "628b6f77-2fcf-4b22-aa11-1082a91cb79b",
   "metadata": {},
   "outputs": [],
   "source": []
  }
 ],
 "metadata": {
  "kernelspec": {
   "display_name": "Python 3 (ipykernel)",
   "language": "python",
   "name": "python3"
  },
  "language_info": {
   "codemirror_mode": {
    "name": "ipython",
    "version": 3
   },
   "file_extension": ".py",
   "mimetype": "text/x-python",
   "name": "python",
   "nbconvert_exporter": "python",
   "pygments_lexer": "ipython3",
   "version": "3.12.7"
  }
 },
 "nbformat": 4,
 "nbformat_minor": 5
}
